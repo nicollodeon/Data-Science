{
 "cells": [
  {
   "cell_type": "markdown",
   "metadata": {
    "collapsed": false
   },
   "source": [
    "\n",
    "<h3>CITS2402 Lab 3</h3>\n",
    "\n",
    "# Exploring the Census Age Data\n",
    "\n",
    "<div>\n",
    "    <img src=\"barking-board-tiny.png\" width=500)>\n",
    "    <br><br>\n",
    "</div>\n",
    "\n",
    "<sup>Image: https://www.abc.net.au/news/2017-08-03/census-2016-ordinary-australia-probably-isnt-where-you-think/8680052</sup>\n",
    "\n",
    "In *The Census and the \"Typical\" Australian?\"*, we discussed the age chosen for Clare (38), the \"Typical\" Australian, and Paul (37), the \"Typical\" Western Australian.\n",
    "\n",
    "We saw that the ABS chose to use the *mode* for most attributes, while for age they chose to use the *median*. We asked why they may have made that decision. (Noting as well that in their Quickstats they also used some *means* (averages), somewhat confusingly, for the same attributes.)\n",
    "\n",
    "In this lab we'll explore the data, and see if you think that choice is justified.\n"
   ]
  },
  {
   "cell_type": "markdown",
   "metadata": {
    "collapsed": false
   },
   "source": [
    "## Data Acquisition\n",
    "\n",
    "(Note: Finding and extracting the data _IS part of the exercise_ - if you just get the data from someone else you will be missing the opportunity to do a typical data exploration. If the next part doesn't make sense, you may want to revisit the case study in the lectures first.)\n",
    "\n",
    "* Find and download the 2016 Census *General Community Profile* datapack from the ABS to your computer, and unzip the package.\n",
    "\n",
    "#### Readme files\n",
    "\n",
    "By convention, authors of data commonly put explanations about the data in one or more text files (so they're readable from the shell without an editor)  called `readme.txt` or similar.\n",
    "\n",
    "* Have a scan through the available readme files starting with `AboutDatapacks_readme.txt`.\n",
    "\n",
    "You can come back to these if you need more information on understanding the data.\n",
    "\n",
    "#### Metadata\n",
    "\n",
    "_Metadata_ (meaning, roughly, \"above the data\") is additional information to the raw data. In this case it tells you what tables of data (stored as separate files) there are in the package, and the descriptors used in those tables.\n",
    "\n",
    "* Open the Metadata spreadsheet for the DataPack (in your preferred spreadsheet software). \n",
    "* Find the table that reports age data from the Census. (Hint: This is the one that treats Age as a _dependent variable_, rather than an _independent variable_.)\n",
    "\n",
    "* Note the table number, and go to the Cell Descriptors for that data. \n",
    "\n",
    "You should find age categories starting from the age of zero.\n",
    "\n",
    ">  _Q: How many categories does a 20 year old identifying as male appear in?_\n",
    ">\n",
    "> _Q: What happens when you get to 80?_\n",
    "\n",
    "You should see that people over 80 do not get the same representation as those under 80. Can you think of any good reason to justify this blatant ageism? "
   ]
  },
  {
   "cell_type": "markdown",
   "metadata": {
    "collapsed": false
   },
   "source": [
    "#### Data files\n",
    "\n",
    "* Open the data directory from the package and find the data files corresponding to the tables.\n",
    "\n",
    "* Find the files corresponding to the Age data.\n",
    "\n",
    "What format are the data stored in?\n",
    "\n",
    "Check the size of the files. You should find they are around 4KB and 2KB.\n",
    "\n",
    "* Upload the relevant data files to the directory for this Lab in CoCalc. (The two files should each be less than 5KB. Do **not** upload the entire 6.5MB directory.)\n",
    "\n",
    "Knowing a few Unix commands (as mentioned in the Getting Started lab sheet) provides a very quick way of finding your way around directories and data.\n",
    "\n",
    "* Open a shell (\"Linux Terminal\" ) in CoCalc.\n",
    "  * Use `ls -l` to list the contents of your directory. You should see the uploaded files with their sizes (in number of bytes) listed on the left side of the dates.\n",
    "  * Use `more` _filename_ to show the contents of one of the data files. (Tip: you can use Tab for filename completion, up to the point where two filenames differ.)\n",
    "\n",
    "Is it what you would have expected? Is there extra information such as headers, footers, or metadata that you will need to watch out for? What would be your strategy for getting all the data into a useable form in python?"
   ]
  },
  {
   "cell_type": "markdown",
   "metadata": {
    "collapsed": false
   },
   "source": [
    "### Reading the Data into the Notebook\n",
    "\n",
    "* Set up constants `AGE_DATA_A` and `AGE_DATA_B` to point to the age data files. Read in and print out the data to ensure you have accessed it correctly.\n",
    "\n",
    "You should see the same thing you saw using the Unix `more` command."
   ]
  },
  {
   "cell_type": "code",
   "execution_count": 6,
   "metadata": {
    "collapsed": false
   },
   "outputs": [
   ],
   "source": [
    "AGE_DATA_A=\"2016Census_G04A_AUS.csv\"\n",
    "AGE_DATA_B=\"2016Census_G04B_AUS.csv\""
   ]
  },
  {
   "cell_type": "code",
   "execution_count": 7,
   "metadata": {
    "collapsed": false
   },
   "outputs": [
   ],
   "source": [
    "AandB=[AGE_DATA_A,AGE_DATA_B]"
   ]
  },
  {
   "cell_type": "markdown",
   "metadata": {
    "collapsed": false
   },
   "source": [
    "## Data Cleaning\n",
    "\n",
    "We are going to examine the age profile of the *population as a whole*.\n",
    "\n",
    "Have another look at the relevant Cell Descriptors in the metadata spreadsheet. Which rows of data do you need for this task?\n",
    "\n",
    "Let's start by pulling the data into lists and cleaning it to leave just the data we need.\n",
    "\n"
   ]
  },
  {
   "cell_type": "markdown",
   "metadata": {
    "collapsed": false
   },
   "source": [
    "#### 1. Checked solution [1 prac mark]\n",
    "\n",
    "* Write a function `read_data(files)` that\n",
    "  * takes as input a list of file names containing the raw data\n",
    "  * reads and cleans the data so that it contains only data for the 1 year age categories for persons, the 5 year cumulative categories for persons and the final 100+ category (in the same order as the original file), and the corresponding numbers\n",
    "  * tidies up the category names by removing the `_M`, `_F` and `_P` suffixes\n",
    "  * returns a pair `(categories, numbers)` containing a list of the categories (as strings), and a list of the corresponding numbers (as integers)\n",
    "  \n",
    "\n",
    "An example output might be:\n",
    "\n",
    "```\n",
    "(categories, numbers) = read_data([AGE_DATA_A, AGE_DATA_B])\n",
    "print(categories[:6])\n",
    "print(numbers[:6])\n",
    "\n",
    "['Age_yr_0', 'Age_yr_1', 'Age_yr_2', 'Age_yr_3', 'Age_yr_4', 'Age_yr_0_4']\n",
    "[276227, 293503, 295142, 299725, 300184, 1464779]\n",
    "```\n",
    "\n",
    "Tip: If you are having trouble, a similar example is covered in the _Census_ case study in the lectures.\n",
    "\n"
   ]
  },
  {
   "cell_type": "code",
   "execution_count": 8,
   "metadata": {
    "collapsed": true,
    "deletable": false,
    "nbgrader": {
     "cell_type": "code",
     "checksum": "221f480de7e23c9150319ee87ae053e0",
     "grade": false,
     "grade_id": "b16a96",
     "locked": false,
     "remove": false,
     "schema_version": 3,
     "solution": true,
     "task": false
    },
    "scrolled": true
   },
   "outputs": [
    {
     "data": {
      "text/plain": [
       "(['Age_yr_0',\n",
       "  'Age_yr_1',\n",
       "  'Age_yr_2',\n",
       "  'Age_yr_3',\n",
       "  'Age_yr_4',\n",
       "  'Age_yr_0_4',\n",
       "  'Age_yr_5',\n",
       "  'Age_yr_6',\n",
       "  'Age_yr_7',\n",
       "  'Age_yr_8',\n",
       "  'Age_yr_9',\n",
       "  'Age_yr_5_9',\n",
       "  'Age_yr_10',\n",
       "  'Age_yr_11',\n",
       "  'Age_yr_12',\n",
       "  'Age_yr_13',\n",
       "  'Age_yr_14',\n",
       "  'Age_yr_10_14',\n",
       "  'Age_yr_15',\n",
       "  'Age_yr_16',\n",
       "  'Age_yr_17',\n",
       "  'Age_yr_18',\n",
       "  'Age_yr_19',\n",
       "  'Age_yr_15_19',\n",
       "  'Age_yr_20',\n",
       "  'Age_yr_21',\n",
       "  'Age_yr_22',\n",
       "  'Age_yr_23',\n",
       "  'Age_yr_24',\n",
       "  'Age_yr_20_24',\n",
       "  'Age_yr_25',\n",
       "  'Age_yr_26',\n",
       "  'Age_yr_27',\n",
       "  'Age_yr_28',\n",
       "  'Age_yr_29',\n",
       "  'Age_yr_25_29',\n",
       "  'Age_yr_30',\n",
       "  'Age_yr_31',\n",
       "  'Age_yr_32',\n",
       "  'Age_yr_33',\n",
       "  'Age_yr_34',\n",
       "  'Age_yr_30_34',\n",
       "  'Age_yr_35',\n",
       "  'Age_yr_36',\n",
       "  'Age_yr_37',\n",
       "  'Age_yr_38',\n",
       "  'Age_yr_39',\n",
       "  'Age_yr_35_39',\n",
       "  'Age_yr_40',\n",
       "  'Age_yr_41',\n",
       "  'Age_yr_42',\n",
       "  'Age_yr_43',\n",
       "  'Age_yr_44',\n",
       "  'Age_yr_40_44',\n",
       "  'Age_yr_45',\n",
       "  'Age_yr_46',\n",
       "  'Age_yr_47',\n",
       "  'Age_yr_48',\n",
       "  'Age_yr_49',\n",
       "  'Age_yr_45_49',\n",
       "  'Age_yr_50',\n",
       "  'Age_yr_51',\n",
       "  'Age_yr_52',\n",
       "  'Age_yr_53',\n",
       "  'Age_yr_54',\n",
       "  'Age_yr_50_54',\n",
       "  'Age_yr_55',\n",
       "  'Age_yr_56',\n",
       "  'Age_yr_57',\n",
       "  'Age_yr_58',\n",
       "  'Age_yr_59',\n",
       "  'Age_yr_55_59',\n",
       "  'Age_yr_60',\n",
       "  'Age_yr_61',\n",
       "  'Age_yr_62',\n",
       "  'Age_yr_63',\n",
       "  'Age_yr_64',\n",
       "  'Age_yr_60_64',\n",
       "  'Age_yr_65',\n",
       "  'Age_yr_66',\n",
       "  'Age_yr_67',\n",
       "  'Age_yr_68',\n",
       "  'Age_yr_69',\n",
       "  'Age_yr_65_69',\n",
       "  'Age_yr_70',\n",
       "  'Age_yr_71',\n",
       "  'Age_yr_72',\n",
       "  'Age_yr_73',\n",
       "  'Age_yr_74',\n",
       "  'Age_yr_70_74',\n",
       "  'Age_yr_75',\n",
       "  'Age_yr_76',\n",
       "  'Age_yr_77',\n",
       "  'Age_yr_78',\n",
       "  'Age_yr_79',\n",
       "  'Age_yr_75_79',\n",
       "  'Age_yr_80_84',\n",
       "  'Age_yr_85_89',\n",
       "  'Age_yr_90_94',\n",
       "  'Age_yr_95_99',\n",
       "  'Age_yr_100_yr_over'],\n",
       " [276227,\n",
       "  293503,\n",
       "  295142,\n",
       "  299725,\n",
       "  300184,\n",
       "  1464779,\n",
       "  298271,\n",
       "  302901,\n",
       "  299413,\n",
       "  301400,\n",
       "  300664,\n",
       "  1502646,\n",
       "  291803,\n",
       "  280279,\n",
       "  277765,\n",
       "  274328,\n",
       "  273014,\n",
       "  1397183,\n",
       "  278837,\n",
       "  282097,\n",
       "  282478,\n",
       "  284249,\n",
       "  293937,\n",
       "  1421595,\n",
       "  302373,\n",
       "  310938,\n",
       "  311388,\n",
       "  318881,\n",
       "  323217,\n",
       "  1566793,\n",
       "  329436,\n",
       "  336235,\n",
       "  331744,\n",
       "  334236,\n",
       "  332945,\n",
       "  1664602,\n",
       "  342321,\n",
       "  341084,\n",
       "  342332,\n",
       "  343142,\n",
       "  334962,\n",
       "  1703847,\n",
       "  329654,\n",
       "  317170,\n",
       "  308794,\n",
       "  304021,\n",
       "  302040,\n",
       "  1561679,\n",
       "  305551,\n",
       "  306170,\n",
       "  315801,\n",
       "  321509,\n",
       "  334220,\n",
       "  1583257,\n",
       "  342135,\n",
       "  319874,\n",
       "  315888,\n",
       "  306342,\n",
       "  297225,\n",
       "  1581455,\n",
       "  298409,\n",
       "  296133,\n",
       "  308770,\n",
       "  311129,\n",
       "  309113,\n",
       "  1523551,\n",
       "  307724,\n",
       "  296245,\n",
       "  288988,\n",
       "  284495,\n",
       "  276881,\n",
       "  1454332,\n",
       "  273932,\n",
       "  263946,\n",
       "  257389,\n",
       "  255829,\n",
       "  248301,\n",
       "  1299397,\n",
       "  245354,\n",
       "  239654,\n",
       "  231175,\n",
       "  230653,\n",
       "  242161,\n",
       "  1188999,\n",
       "  200020,\n",
       "  189011,\n",
       "  180760,\n",
       "  159896,\n",
       "  158024,\n",
       "  887716,\n",
       "  145679,\n",
       "  138588,\n",
       "  130681,\n",
       "  122201,\n",
       "  115511,\n",
       "  652657,\n",
       "  460549,\n",
       "  308960,\n",
       "  140398,\n",
       "  33920,\n",
       "  3569])"
      ]
     },
     "execution_count": 8,
     "metadata": {
     },
     "output_type": "execute_result"
    }
   ],
   "source": [
    "def read_data (files):\n",
    "    categories=[]\n",
    "    numbers=[]\n",
    "\n",
    "    for file in files:\n",
    "        with open(file,'r') as data:\n",
    "            readdata=data.read()\n",
    "            split_data=readdata.splitlines()\n",
    "            header=split_data[0].split(',')\n",
    "            footer=split_data[1].split(',')\n",
    "            header_nocode=header[1:] #remove auscode\n",
    "            footer_nocode=footer[1:] #remove code\n",
    "            categories+=header_nocode\n",
    "            numbers+=footer_nocode\n",
    "\n",
    "\n",
    "    indexes=slice(2,len(categories),3) #get index of male and female\n",
    "    categories1=categories[indexes][:-1] #categorise1 #remove the last bit\n",
    "    num=numbers[indexes][:-1] #num\n",
    "\n",
    "    ages=[]\n",
    "    for each_age in categories1:\n",
    "        age=each_age[:-2]\n",
    "        ages.append(age)\n",
    "\n",
    "    nums=[]\n",
    "    for each_num in num:\n",
    "        nums.append(int(each_num))\n",
    "\n",
    "    categories=ages\n",
    "    numbers=nums\n",
    "\n",
    "    return categories,numbers\n",
    "\n",
    "#AandB=[AGE_DATA_A,AGE_DATA_B]\n",
    "\n",
    "read_data(AandB)"
   ]
  },
  {
   "cell_type": "code",
   "execution_count": 21,
   "metadata": {
    "collapsed": false,
    "deletable": false,
    "editable": false,
    "nbgrader": {
     "grade": true,
     "grade_id": "read_data",
     "locked": true,
     "points": 1,
     "schema_version": 3,
     "solution": false,
     "task": false
    }
   },
   "outputs": [
   ],
   "source": [
    "from nose.tools import assert_equal\n",
    "AGE_DATA_A = '2016Census_G04A_AUS.csv'\n",
    "AGE_DATA_B = '2016Census_G04B_AUS.csv'\n",
    "(categories, numbers) = read_data([AGE_DATA_A,AGE_DATA_B])\n",
    "assert_equal(categories[0],'Age_yr_0')\n",
    "assert_equal(categories[-1],'Age_yr_100_yr_over')\n",
    "assert_equal(numbers[-1],3569)\n"
   ]
  },
  {
   "cell_type": "code",
   "execution_count": 10,
   "metadata": {
    "collapsed": true
   },
   "outputs": [
    {
     "data": {
      "text/plain": [
       "['Age_yr_0',\n",
       " 'Age_yr_1',\n",
       " 'Age_yr_2',\n",
       " 'Age_yr_3',\n",
       " 'Age_yr_4',\n",
       " 'Age_yr_0_4',\n",
       " 'Age_yr_5',\n",
       " 'Age_yr_6',\n",
       " 'Age_yr_7',\n",
       " 'Age_yr_8',\n",
       " 'Age_yr_9',\n",
       " 'Age_yr_5_9',\n",
       " 'Age_yr_10',\n",
       " 'Age_yr_11',\n",
       " 'Age_yr_12',\n",
       " 'Age_yr_13',\n",
       " 'Age_yr_14',\n",
       " 'Age_yr_10_14',\n",
       " 'Age_yr_15',\n",
       " 'Age_yr_16',\n",
       " 'Age_yr_17',\n",
       " 'Age_yr_18',\n",
       " 'Age_yr_19',\n",
       " 'Age_yr_15_19',\n",
       " 'Age_yr_20',\n",
       " 'Age_yr_21',\n",
       " 'Age_yr_22',\n",
       " 'Age_yr_23',\n",
       " 'Age_yr_24',\n",
       " 'Age_yr_20_24',\n",
       " 'Age_yr_25',\n",
       " 'Age_yr_26',\n",
       " 'Age_yr_27',\n",
       " 'Age_yr_28',\n",
       " 'Age_yr_29',\n",
       " 'Age_yr_25_29',\n",
       " 'Age_yr_30',\n",
       " 'Age_yr_31',\n",
       " 'Age_yr_32',\n",
       " 'Age_yr_33',\n",
       " 'Age_yr_34',\n",
       " 'Age_yr_30_34',\n",
       " 'Age_yr_35',\n",
       " 'Age_yr_36',\n",
       " 'Age_yr_37',\n",
       " 'Age_yr_38',\n",
       " 'Age_yr_39',\n",
       " 'Age_yr_35_39',\n",
       " 'Age_yr_40',\n",
       " 'Age_yr_41',\n",
       " 'Age_yr_42',\n",
       " 'Age_yr_43',\n",
       " 'Age_yr_44',\n",
       " 'Age_yr_40_44',\n",
       " 'Age_yr_45',\n",
       " 'Age_yr_46',\n",
       " 'Age_yr_47',\n",
       " 'Age_yr_48',\n",
       " 'Age_yr_49',\n",
       " 'Age_yr_45_49',\n",
       " 'Age_yr_50',\n",
       " 'Age_yr_51',\n",
       " 'Age_yr_52',\n",
       " 'Age_yr_53',\n",
       " 'Age_yr_54',\n",
       " 'Age_yr_50_54',\n",
       " 'Age_yr_55',\n",
       " 'Age_yr_56',\n",
       " 'Age_yr_57',\n",
       " 'Age_yr_58',\n",
       " 'Age_yr_59',\n",
       " 'Age_yr_55_59',\n",
       " 'Age_yr_60',\n",
       " 'Age_yr_61',\n",
       " 'Age_yr_62',\n",
       " 'Age_yr_63',\n",
       " 'Age_yr_64',\n",
       " 'Age_yr_60_64',\n",
       " 'Age_yr_65',\n",
       " 'Age_yr_66',\n",
       " 'Age_yr_67',\n",
       " 'Age_yr_68',\n",
       " 'Age_yr_69',\n",
       " 'Age_yr_65_69',\n",
       " 'Age_yr_70',\n",
       " 'Age_yr_71',\n",
       " 'Age_yr_72',\n",
       " 'Age_yr_73',\n",
       " 'Age_yr_74',\n",
       " 'Age_yr_70_74',\n",
       " 'Age_yr_75',\n",
       " 'Age_yr_76',\n",
       " 'Age_yr_77',\n",
       " 'Age_yr_78',\n",
       " 'Age_yr_79',\n",
       " 'Age_yr_75_79',\n",
       " 'Age_yr_80_84',\n",
       " 'Age_yr_85_89',\n",
       " 'Age_yr_90_94',\n",
       " 'Age_yr_95_99',\n",
       " 'Age_yr_100_yr_over']"
      ]
     },
     "execution_count": 10,
     "metadata": {
     },
     "output_type": "execute_result"
    }
   ],
   "source": [
    "read_data(AandB)[0]"
   ]
  },
  {
   "cell_type": "markdown",
   "metadata": {
    "collapsed": false
   },
   "source": [
    "### Data Augmentation\n",
    "\n",
    "Later we are going to plot the data. First, however, as the ABS have inexplicably left out people over 80, we will have to reconstruct the data as best we can. This is akin to the *Statistical Imputation* we discuss in the *Census* case study (where we discuss Hot Decking, Mean Substitution, Probabilistic and Regression methods).\n",
    "\n",
    "We'll need to fill in the data for each year group. We'll start with a simple method, and move on to a more challenging one.\n",
    "\n",
    "As a first approximation we will simply use an averaging approach. We'll make an *assumption* that the number of people in a date range is approximately the same for each year in that category (with excess people added \"from the left\").\n",
    "\n",
    "#### 2. Checked Solution [1 prac mark]\n",
    "\n",
    "* Write a function `spread(age_cat, num)` that:\n",
    "  * takes as arguments a date range string `age_cat` and a non-negative integer `num`\n",
    "    * where `age_cat` represents a date range in the format `Age_yr_`*n1_n2*, where *n1* <= *n2* are _any valid human ages_ (eg. `Age_yr_80_84`)\n",
    "  * returns a pair (2-tuple) of lists:\n",
    "    * the first list should contain strings in the form `Age_yr_`*n* where *n* ranges from the first to the last year in the range (eg. `Age_yr_80`, `Age_yr_81`,... in the above example)\n",
    "    * the second list contains a list of integers adding up to `num` such that:\n",
    "      * if `num` is divisible by the number of years in the range, then each integer should be the same (ie. the people are evenly spread)\n",
    "      * if there is a remainder from dividing `num` by the number of years, the remainder should be added one at a time to the year groups starting at the lowest age (80 in this example) until there are no more remaining\n",
    "\n",
    "For example, `spread('Age_yr_80_84', 7)` should return:\n",
    "\n",
    "```\n",
    "(['Age_yr_80', 'Age_yr_81', 'Age_yr_82', 'Age_yr_83', 'Age_yr_84'], [2, 2, 1, 1, 1])\n",
    "```\n",
    "\n",
    "Tip: You might find `divmod` useful. Also, recall that `+` and `*` can be used to create lists.\n",
    "\n",
    "> _Good Programming Tip_: When parsing strings (for example) it is better where possible (more robust, more readable, more maintainable) to use components that have some \"meaning\" to break down objects, rather than numerical indices.\n",
    ">\n",
    "> For example, in _DiversityInStudy_ most of the units were in the form `STAT2023-2`. To get the teaching period, we could use something like `unit[9]`. However, later in the file there were some non-standard semesters, such as `SVLG1225-Y3`, which would break this code.\n",
    ">\n",
    "> Instead we could use something like `(code,_,period) = unit.partition(\"-\")` which recognises the logical _role_ played by the dash - left of the dash means one thing, right of the dash another. \n",
    ">\n",
    "> This code will work equally well for  `SVLG1225-Y3` because it is based on the roles of the components, rather than their exact numerical position.\n",
    "\n"
   ]
  },
  {
   "cell_type": "code",
   "execution_count": 11,
   "metadata": {
    "collapsed": false
   },
   "outputs": [
    {
     "data": {
      "text/plain": [
       "(1, 2)"
      ]
     },
     "execution_count": 11,
     "metadata": {
     },
     "output_type": "execute_result"
    }
   ],
   "source": [
    "divmod(7,5)"
   ]
  },
  {
   "cell_type": "code",
   "execution_count": 12,
   "metadata": {
    "collapsed": false
   },
   "outputs": [
    {
     "data": {
      "text/plain": [
       "2"
      ]
     },
     "execution_count": 12,
     "metadata": {
     },
     "output_type": "execute_result"
    }
   ],
   "source": [
    "7%5"
   ]
  },
  {
   "cell_type": "code",
   "execution_count": 13,
   "metadata": {
    "collapsed": false,
    "deletable": false,
    "nbgrader": {
     "cell_type": "code",
     "checksum": "b27f438f5a71c90524e6b3ef636a1795",
     "grade": false,
     "grade_id": "272be1",
     "locked": false,
     "schema_version": 3,
     "solution": true,
     "task": false
    }
   },
   "outputs": [
    {
     "data": {
      "text/plain": [
       "(['Age_yr_80', 'Age_yr_81', 'Age_yr_82', 'Age_yr_83', 'Age_yr_84'],\n",
       " [2, 2, 1, 1, 1])"
      ]
     },
     "execution_count": 13,
     "metadata": {
     },
     "output_type": "execute_result"
    }
   ],
   "source": [
    "def spread(age_cat,num):\n",
    "    individual_age=[]\n",
    "    individual_num=[]\n",
    "\n",
    "    field=age_cat.split('_')[-2:] #there is 4 underscore,get the last 2 for age number\n",
    "\n",
    "    if field[1]>=field[0]:\n",
    "        start=int(field[0])\n",
    "        end=int(field[1])+1\n",
    "        age_range=end-start\n",
    "        for i in range(start,end):\n",
    "            individual_age.append('Age_yr_'+str(i))\n",
    "\n",
    "    divi=divmod(num,age_range)\n",
    "    for j in range(age_range):\n",
    "        individual_num.append(int(divi[0]))\n",
    "\n",
    "    remain=int(divi[1])\n",
    "    for num_data in range(age_range):\n",
    "        if remain>0:\n",
    "            individual_num[num_data] += 1\n",
    "            remain=remain-1\n",
    "\n",
    "\n",
    "\n",
    "\n",
    "\n",
    "\n",
    "    return(individual_age,individual_num)\n",
    "\n",
    "\n",
    "spread('Age_yr_80_84',7)"
   ]
  },
  {
   "cell_type": "code",
   "execution_count": 14,
   "metadata": {
    "collapsed": false,
    "deletable": false,
    "editable": false,
    "nbgrader": {
     "grade": true,
     "grade_id": "spread",
     "locked": true,
     "points": 1,
     "schema_version": 3,
     "solution": false,
     "task": false
    }
   },
   "outputs": [
    {
     "name": "stdout",
     "output_type": "stream",
     "text": [
      "So far, so good. Additional test cases will be applied.\n"
     ]
    }
   ],
   "source": [
    "from nose.tools import assert_equal\n",
    "assert_equal(spread('Age_yr_80_84', 7), (['Age_yr_80', 'Age_yr_81', 'Age_yr_82', 'Age_yr_83', 'Age_yr_84'], [2, 2, 1, 1, 1]))\n",
    "assert_equal(spread('Age_yr_80_84', 460549), (['Age_yr_80', 'Age_yr_81', 'Age_yr_82', 'Age_yr_83', 'Age_yr_84'], [92110, 92110, 92110, 92110, 92109]))\n",
    "assert_equal(spread('Age_yr_80_89', 7), (['Age_yr_80', 'Age_yr_81', 'Age_yr_82', 'Age_yr_83', 'Age_yr_84', 'Age_yr_85', 'Age_yr_86', 'Age_yr_87', 'Age_yr_88', 'Age_yr_89'], [1, 1, 1, 1, 1, 1, 1, 0, 0, 0]))\n",
    "assert_equal(spread('Age_yr_59_62', 0), (['Age_yr_59', 'Age_yr_60', 'Age_yr_61', 'Age_yr_62'], [0, 0, 0, 0]))\n",
    "print(\"So far, so good. Additional test cases will be applied.\")\n"
   ]
  },
  {
   "cell_type": "markdown",
   "metadata": {
    "collapsed": false
   },
   "source": [
    "* Using your `spread` function, write a function `augment_data(categories, numbers)` that completes (reconstructs) the lists of age categories and numbers, following the pattern of the lower age years, as follows:\n",
    "  * for the age ranges from 80-84 to 95-99, insert the categories and ages for each year calculated by spreading the total number over the 5 years\n",
    "  * for the age range 100 years and over, assume the ages are spread over the range 100-104 (again a poor assumption) and insert as above\n",
    "\n",
    "For example, your output for the list of categories (age ranges) should end like this:\n",
    "```\n",
    "...'Age_yr_98', 'Age_yr_99', 'Age_yr_95_99', 'Age_yr_100', 'Age_yr_101', 'Age_yr_102', 'Age_yr_103', 'Age_yr_104', 'Age_yr_100_yr_over']\n",
    "```"
   ]
  },
  {
   "cell_type": "markdown",
   "metadata": {
    "collapsed": false
   },
   "source": [
    "* Combine your list of categories and your list of numbers into a list of pairs containing *only entries for each single year*.\n",
    "* In the process also strip out \"`yr_`\" from the category names.\n",
    "\n",
    "Tip: Use `zip` to combine the lists.\n",
    "\n",
    "Your list should now start like this:\n",
    "```\n",
    "[('Age_0', 276227),\n",
    " ('Age_1', 293503),\n",
    " ('Age_2', 295142),\n",
    " ('Age_3', 299725),\n",
    " ('Age_4', 300184),\n",
    " ('Age_5', 298271),\n",
    " ('Age_6', 302901),\n",
    " ('Age_7', 299413),\n",
    " ...\n",
    "```\n",
    "\n",
    "* Check your list has the number of entries that you would expect.\n",
    "* As usual, check your work with unit tests.\n"
   ]
  },
  {
   "cell_type": "markdown",
   "metadata": {
    "collapsed": false
   },
   "source": [
    "#### 3. Checked Solution [1 prac mark]\n",
    "\n",
    "- Drawing from your work so far, define a function `cleaned_data()` that:\n",
    "  - reads in the age data from the csv files\n",
    "  - augments the data with the missing age data as described above\n",
    "  - keeps only the necessary data \\(number of persons for each year\\)\n",
    "  - shortens the category names to the form `Age_`_n_\n",
    "  - returns the data in a list of pairs in the form \\(_categ ory\\_name_, _number_\\)\n",
    "\n",
    "Check that your output is as you would expect, before applying the sample tests.\n",
    "\n",
    "Note that your function can call functions you have defined previously. As usual, however, check that it works with a fresh kernel.\n",
    "\n"
   ]
  },
  {
   "cell_type": "code",
   "execution_count": 19,
   "metadata": {
    "collapsed": false,
    "deletable": false,
    "nbgrader": {
     "cell_type": "code",
     "checksum": "50b5c34cc839ae31590c3af897e29796",
     "grade": false,
     "grade_id": "985c2c",
     "locked": false,
     "schema_version": 3,
     "solution": true,
     "task": false
    }
   },
   "outputs": [
    {
     "ename": "SyntaxError",
     "evalue": "invalid syntax (1233314973.py, line 36)",
     "output_type": "error",
     "traceback": [
      "\u001b[0;36m  File \u001b[0;32m\"/tmp/ipykernel_1956/1233314973.py\"\u001b[0;36m, line \u001b[0;32m36\u001b[0m\n\u001b[0;31m    if\u001b[0m\n\u001b[0m      ^\u001b[0m\n\u001b[0;31mSyntaxError\u001b[0m\u001b[0;31m:\u001b[0m invalid syntax\n"
     ]
    }
   ],
   "source": [
    "def cleaned_data(file_list):\n",
    "    #for age 85-99 spread the age\n",
    "    get_data=read_data(file_list)\n",
    "\n",
    "    number=[]\n",
    "    category_name=[]\n",
    "    individual_age=[]\n",
    "    k=0\n",
    "\n",
    "    for age_data in get_data[0]:\n",
    "        index=age_data.split('_') #['Age', 'yr', '0']\n",
    "\n",
    "        #spread age range for above 80\n",
    "        if int(index[2]) > 79:\n",
    "\n",
    "            field=age_data.split('_')[-2:] #there is 4 underscore,get the last 2 for age number 'Age_yr_75_79'\n",
    "            if field[1]>=field[0]: #79-75\n",
    "                start=int(field[0])\n",
    "                end=int(field[1])+1\n",
    "                age_range=end-start\n",
    "                for i in range(start,end):\n",
    "                    individual_age.append('Age_yr_'+str(i))\n",
    "\n",
    "        #age above 100\n",
    "        if age_data == 'Age_yr_100_yr_over':\n",
    "            for i in range(5):\n",
    "                individual_age.append('Age_yr_'+ str(100+i))\n",
    "            individual_age.append('Age_yr_100_yr_over')\n",
    "\n",
    "\n",
    "\n",
    "        else: #LESS THAN 80\n",
    "            if len(index) < 4: #less than 3 underscore\n",
    "                individual_age.append(age_data)\n",
    "\n",
    "        if\n",
    "        number.append(get_data[1])\n",
    "\n",
    "\n",
    "\n",
    "        k+=1\n",
    "\n",
    "\n",
    "\n",
    "\n",
    "    print(individual_age,number)\n",
    "\n",
    "cleaned_data(AandB)"
   ]
  },
  {
   "cell_type": "code",
   "execution_count": 0,
   "metadata": {
    "collapsed": false,
    "deletable": false,
    "editable": false,
    "nbgrader": {
     "grade": true,
     "grade_id": "cleaned_data",
     "locked": true,
     "points": 1,
     "schema_version": 3,
     "solution": false,
     "task": false
    }
   },
   "outputs": [
   ],
   "source": [
    "from nose.tools import assert_equal\n",
    "AGE_DATA_A = '2016Census_G04A_AUS.csv'\n",
    "AGE_DATA_B = '2016Census_G04B_AUS.csv'\n",
    "squeaky = cleaned_data([AGE_DATA_A, AGE_DATA_B])\n",
    "assert_equal(squeaky[0], ('Age_0', 276227))\n",
    "assert_equal(squeaky[80], ('Age_80', 92110))\n",
    "assert_equal(squeaky[-1][0], 'Age_104')\n",
    "assert_equal(len(squeaky), 105)\n",
    "print(\"So far, so good. Additional test cases will be applied.\")\n"
   ]
  },
  {
   "cell_type": "markdown",
   "metadata": {
    "collapsed": false
   },
   "source": [
    "## Data Analysis\n",
    "\n",
    "#### 4. Checked Solution [1 prac mark]\n",
    "\n",
    "For the last checked solution of this lab, you are given less \"scaffolding\" and it is up to you to decide how to best break down the problem.\n",
    "\n",
    "* Without using any libraries, write a function `central_measures(clean_data)` that takes a list of `(age_year, number)` pairs, and returns a triple `(mean, median, mode)` containing the _measures of central tendency_ for age in years.\n",
    "  * Where the _mean_ falls between two integers, your function should round to the nearest year. Where it is exactly half way, it should choose the even year (following standard practice). For example, if the calculated mean is 51.5, the function would return 52.\n",
    "  * Where the _median_ falls between two age groups, it should return the higher age group. For example, if the population consisted only of 100 people aged 20, and 100 people aged 21, the function would return 21 (since the ages will be clustered around 21.0).\n",
    "  * If there is more than one _mode_, your function should return the lowest age mode.\n",
    "\n",
    "* You should endeavour to make your function \"space efficient\". For example, rather than calculating the median by creating a (very long) list of all the people, think about using a count of people in each age group to find the median.\n",
    "\n",
    "Test your function thoroughly. Some example (unit) tests are included below. Do you agree with the answers given?\n"
   ]
  },
  {
   "cell_type": "code",
   "execution_count": 0,
   "metadata": {
    "collapsed": false,
    "deletable": false,
    "nbgrader": {
     "cell_type": "code",
     "checksum": "f8d4fbad228eb7cde092df3fa40906cc",
     "grade": false,
     "grade_id": "274d80",
     "locked": false,
     "schema_version": 3,
     "solution": true,
     "task": false
    },
    "scrolled": true
   },
   "outputs": [
   ],
   "source": [
    "def central_measures (clean_data):\n",
    "    # YOUR CODE HERE\n",
    "    raise NotImplementedError()\n"
   ]
  },
  {
   "cell_type": "code",
   "execution_count": 0,
   "metadata": {
    "collapsed": false,
    "deletable": false,
    "editable": false,
    "nbgrader": {
     "grade": true,
     "grade_id": "central_measures",
     "locked": true,
     "points": 1,
     "schema_version": 3,
     "solution": false,
     "task": false
    }
   },
   "outputs": [
   ],
   "source": [
    "from nose.tools import assert_equal\n",
    "AGE_DATA_A = '2016Census_G04A_AUS.csv'\n",
    "AGE_DATA_B = '2016Census_G04B_AUS.csv'\n",
    "datalist = [AGE_DATA_A, AGE_DATA_B]\n",
    "assert_equal(central_measures(cleaned_data(datalist)[:1]), (0,0,0))\n",
    "assert_equal(central_measures(cleaned_data(datalist)[:2]), (1,1,1))\n",
    "assert_equal(central_measures(cleaned_data(datalist)[:4]), (2,2,3))\n",
    "assert_equal(central_measures([('Age_1', 1), ('Age_2', 1)]), (2,2,1))\n",
    "print(\"So far, so good.\")\n"
   ]
  },
  {
   "cell_type": "markdown",
   "metadata": {
    "collapsed": false
   },
   "source": [
    "Notice that in generating the characterisation of the \"typical Australians\" the ABS would have had to make similar assumptions about filling in the missing data as we have had to here.\n",
    "\n",
    "_Q: What did you find for the measures of central tendency for your data as a whole? How do they compare with the \"typical\" Australians?_\n",
    "\n",
    "_Which of these statistics could depend on the assumptions we made when filling in the missing data?_"
   ]
  },
  {
   "cell_type": "markdown",
   "metadata": {
    "collapsed": false
   },
   "source": [
    "## Data Visualisation\n",
    "\n",
    "For this section you may wish to refer to examples in the lecture case studies. You are also expected to refer to the python API for the details of functions. In this case, this includes\n",
    "[matplotlib.pyplot](https://matplotlib.org/stable/api/_as_gen/matplotlib.pyplot.html). Note that for this lab sheet you do _not_ need to import `numpy` as shown in the API documentation - we will come to numpy later.\n",
    "\n",
    "* Use `pyplot` to produce a basic vertical bar chart for your data.\n",
    "\n",
    "How would you improve your chart to better understand the data from the plot?"
   ]
  },
  {
   "cell_type": "markdown",
   "metadata": {
    "collapsed": false
   },
   "source": [
    "* Improve your plot to make it 'production-ready':\n",
    "  * choose an appropriate width for the plot that allows individual years to be better distinguished\n",
    "  * place the ticks at 5 year intervals along the x-axis\n",
    "  * label the ticks, with the labels written vertically\n",
    "  * label your axes and give the chart a title\n",
    "\n",
    "The bottom of your plot should now look like this:\n",
    "\n",
    "<div><br><img src=\"bottom-of-plot.png\" width=1000></div>"
   ]
  },
  {
   "cell_type": "markdown",
   "metadata": {
    "collapsed": false
   },
   "source": [
    "_Q: What can you learn from the plot? What do you make of the ABS' assertion that the 'typical Australians' are in the 36-38 year range? Looking at the distribution, what age would you choose?_\n",
    "\n",
    "Q: Peter Costello (see the _Census_ case study) introduced the 'baby bonus' around 2002, and made his plea to parents in 2004. The census was taken in 2016. Do you see any (circumstantial) evidence that parents may have heeded his plea? (Bearing in mind, of course, that correlation does not imply causation.)"
   ]
  },
  {
   "cell_type": "markdown",
   "metadata": {
    "collapsed": false
   },
   "source": [
    "## Challenge\n",
    "\n",
    "We filled in the missing data by effectively averaging across each age range (in a similar spirit to _Mean Substitution_). This hasn't turned out too badly, but we could do better.\n",
    "\n",
    "* While staying true to the total number in each age range, improve your method for filling in the missing data to make it as realistic as you can. Remember that you would like to try to use a *general* approach that would also work on other sets of data, rather than one that is *specific* to this set of data.\n",
    "\n",
    "Which of the measures of central tendency could be affected by this? Check whether the measures have changed."
   ]
  },
  {
   "cell_type": "markdown",
   "metadata": {
    "collapsed": false
   },
   "source": [
    "### Extra curricular (not examinable) - for those who have studied Data Structures and Algorithms or similar\n",
    "\n",
    "What is the time complexity of your functions?\n",
    "\n",
    "- A: In general?\n",
    "- B: For a human population?\n",
    "\n",
    "Can they be improved?"
   ]
  },
  {
   "cell_type": "markdown",
   "metadata": {
    "collapsed": false
   },
   "source": [
    "## Extra Practice: More Babies\n",
    "\n",
    "The _Census_ case study includes an exercise to change the line plot so that it uses the percentage on the y-axis rather than the raw numbers, and to see if there is evidence there for the Treasurer's baby boom.\n",
    "\n",
    "* Go ahead and complete the exercise if you haven't done so already."
   ]
  },
  {
   "cell_type": "markdown",
   "metadata": {
    "collapsed": false
   },
   "source": [
    "&copy; Cara MacNish, UWA"
   ]
  }
 ],
 "metadata": {
  "kernelspec": {
   "display_name": "Python 3 (system-wide)",
   "language": "python",
   "metadata": {
    "cocalc": {
     "description": "Python 3 programming language",
     "priority": 100,
     "url": "https://www.python.org/"
    }
   },
   "name": "python3",
   "resource_dir": "/ext/jupyter/kernels/python3"
  },
  "language_info": {
   "codemirror_mode": {
    "name": "ipython",
    "version": 3
   },
   "file_extension": ".py",
   "mimetype": "text/x-python",
   "name": "python",
   "nbconvert_exporter": "python",
   "pygments_lexer": "ipython3",
   "version": "3.8.10"
  },
  "nbgrader": {
   "cocalc_minimal_stubs": false
  }
 },
 "nbformat": 4,
 "nbformat_minor": 4
}