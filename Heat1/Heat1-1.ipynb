{
 "cells": [
  {
   "cell_type": "markdown",
   "metadata": {
    "collapsed": false
   },
   "source": [
    "<h3>Lab 7</h3>\n",
    "\n",
    "# Feel the Heat! Part 1\n",
    "\n",
    "<div>\n",
    "    <img src=\"temperature-anomolies.gif\" width=700><br>\n",
    "</div>\n",
    "\n",
    "<small>Source: [110 Years of Australian Temperatures](http://www.bom.gov.au/climate/history/temperature/), Bureau of Meteorology</small>\n",
    "\n",
    "We might *[love a sunburnt country](https://en.wikipedia.org/wiki/My_Country#/media/File:My_Country_part_1.jpg)*, but Dorothea Mackellar in 1908 couldn't have envisioned quite how sunburnt its getting!\n",
    "\n",
    "The 2019 temperature anomolies map (shown above) paints another alarming picture! Of course, this is just one year, and we are interested in trends.\n",
    "\n",
    "In this lab, we will again examine raw data from the Bureau of Meteorology. This time we will focus on maximum temperatures for Western Australian towns, from the north to the south.\n",
    "\n",
    "This lab also provides practice working with **2-dimensional arrays**.\n",
    "\n"
   ]
  },
  {
   "cell_type": "markdown",
   "metadata": {
    "collapsed": false
   },
   "source": [
    "## Data Acquisition and Inspection\n",
    "\n",
    "Once again we will source our data from the Australian Government's **Bureau of Meteorology (BOM)** *Climate Data Online* service.\n",
    "\n",
    "* Find the _monthly average maximum temperature_ data.\n",
    "* Find and download the historical data for:\n",
    "  * Perth Airport\n",
    "  * Geraldton Town\n",
    "  * Albany\n",
    "  * Broome Airport\n",
    "\n",
    "* Have a look at the data. Read one of the `Note.txt` files so that you can see what is in each file, and the structure.\n",
    "* Inspect one of each type of data file to see that they conform to your expectations from reading the Note.\n",
    "\n",
    "The temperature data is _time series data_ so of course changes over time. For this lab, you have been provided with a snapshot of this data (with suffix `_20`) so that we are all using the same set of data, and I can give examples of the output you should expect.\n",
    "\n",
    "You may upload the latest data to your CoCalc project for extra examples if you wish, taking care of course not to overwrite the provided data. The folders for each town should not be more than about 60KB each.\n",
    "\n"
   ]
  },
  {
   "cell_type": "markdown",
   "metadata": {
    "collapsed": false
   },
   "source": [
    "#### Set up\n",
    "\n",
    "We will set up our constants as follows.\n",
    "\n",
    "- In this lab we will use the second kind of file discussed in `Note.txt` (12 months per line).\n",
    "\n",
    "- We will use a dictionary to map town names to the station codes. This will allow us to easily find the data for each town.\n",
    "\n",
    "- For simplicity we will only use one \"product\" (monthly maximum temperatures), however you can see that we could easily generalise this to other data sets (products) in a similar way to the stations.\n",
    "\n"
   ]
  },
  {
   "cell_type": "code",
   "execution_count": 55,
   "metadata": {
    "collapsed": false,
    "deletable": false,
    "editable": false,
    "nbgrader": {
     "grade": false,
     "grade_id": "c783c7",
     "locked": true,
     "schema_version": 3,
     "solution": false,
     "task": false
    }
   },
   "outputs": [
   ],
   "source": [
    "MONTHLY_TEMPERATURE = \"IDCJAC0002\"\n",
    "PER_LINE = 12\n",
    "\n",
    "STATIONS = {\"Albany\": \"009500\",\n",
    "            \"Perth\": \"009021\",\n",
    "            \"Broome\": \"003003\",\n",
    "            \"Geraldton\": \"008050\"\n",
    "           }"
   ]
  },
  {
   "cell_type": "code",
   "execution_count": 56,
   "metadata": {
    "collapsed": false
   },
   "outputs": [
    {
     "data": {
      "text/plain": [
       "'009500'"
      ]
     },
     "execution_count": 56,
     "metadata": {
     },
     "output_type": "execute_result"
    }
   ],
   "source": [
    "STATIONS['Albany']\n"
   ]
  },
  {
   "cell_type": "markdown",
   "metadata": {
    "collapsed": false
   },
   "source": [
    "## File paths\n",
    "\n",
    "#### Using `format()`\n",
    "First, lets use the `format()` function to recreate a directory name and a filename. We'll use Albany as an example.\n",
    "\n",
    "If you have note used string formatting before, have a look at the documentation for `format()` at: https://docs.python.org/3.8/library/string.html#format-string-syntax. If you are not familiar with specification languages (you are not expected to be) it is better to look at the examples further down that page.\n",
    "\n",
    "(You should use the the \"new\" `{}` formatting, not the \"old\" `%` formatting.)\n",
    "\n",
    "For example, to generate the directory name we could use:\n",
    "```\n",
    "albany_dir_name = \"{}_{}\".format(MONTHLY_TEMPERATURE, STATIONS[\"Albany\"])\n",
    "```\n",
    "\n",
    "* Try this and check the output.\n",
    "* Use `format()` with the above constants to generate the file name for the 12 months per line mean maximum temperature data for Albany.\n"
   ]
  },
  {
   "cell_type": "code",
   "execution_count": 57,
   "metadata": {
    "collapsed": false
   },
   "outputs": [
    {
     "data": {
      "text/plain": [
       "'IDCJAC0002_009500'"
      ]
     },
     "execution_count": 57,
     "metadata": {
     },
     "output_type": "execute_result"
    }
   ],
   "source": [
    "albany_dir_name=\"{}_{}\".format(MONTHLY_TEMPERATURE,STATIONS['Albany'])\n",
    "albany_dir_name\n"
   ]
  },
  {
   "cell_type": "markdown",
   "metadata": {
    "collapsed": false
   },
   "source": [
    "#### Using `pathlib`\n",
    "\n",
    "So far we have just used strings for filenames. When extracting data from a filesystem, however, it is much cleaner to use _objects_ representing file paths. The `pathlib` library is excellent for this. \n",
    "\n",
    "Have a look at the [pathlib documentation](https://docs.python.org/3/library/pathlib.html). We will use some basic pathlib utilities here, but you can see that switching from simple strings to pathlib objects provides a lot more utility.\n",
    "\n",
    "Let's start by checking our \"current working directory\" (or \"folder\").\n",
    "\n",
    "* Execute the following code.\n",
    "\n",
    "```\n",
    "from pathlib import Path\n",
    "print(Path.cwd())\n",
    "Path.cwd()\n",
    "```\n",
    "\n",
    "* Go to the \"folder\" icon in the tabs bar, and open a new linux terminal. Type `pwd` (\"print working directory\") at the terminal prompt. \n",
    "* In python execute:\n",
    "\n",
    "```\n",
    "!pwd\n",
    "```\n",
    "\n",
    "How to they compare?\n",
    "\n"
   ]
  },
  {
   "cell_type": "code",
   "execution_count": 58,
   "metadata": {
    "collapsed": false
   },
   "outputs": [
    {
     "name": "stdout",
     "output_type": "stream",
     "text": [
      "/home/user/Labs/Heat1\n"
     ]
    },
    {
     "data": {
      "text/plain": [
       "PosixPath('/home/user/Labs/Heat1')"
      ]
     },
     "execution_count": 58,
     "metadata": {
     },
     "output_type": "execute_result"
    }
   ],
   "source": [
    "from pathlib import Path\n",
    "print(Path.cwd())\n",
    "Path.cwd()"
   ]
  },
  {
   "cell_type": "markdown",
   "metadata": {
    "collapsed": false
   },
   "source": [
    "pathlib defines the forward slash `/` as a convenient operator for building paths in a Unix-like way.\n",
    "\n",
    "Let's use pathlib to examine the directory for the previous lab. Try:\n",
    "\n",
    "```\n",
    "rainfall = Path.home()/\"Labs\"/\"Rainfall\"\n",
    "print(rainfall)\n",
    "print(rainfall.is_dir(),\"\\n\")\n",
    "for file_path in rainfall.iterdir():\n",
    "    print(file_path)\n",
    "for file_path in rainfall.iterdir():\n",
    "    print(file_path.name)\n",
    "```\n",
    "\n",
    "The first line uses the shorthand `/` operator to create a new path object. The third line confirms that this is the path of a directory. Notice that the iterator returns path objects. To find the name of the file at that path, we look at the attribute `name`.\n",
    "\n"
   ]
  },
  {
   "cell_type": "code",
   "execution_count": 59,
   "metadata": {
    "collapsed": false
   },
   "outputs": [
    {
     "name": "stdout",
     "output_type": "stream",
     "text": [
      "/home/user/Labs/Rainfall\n",
      "True \n",
      "\n",
      "Rainfall.ipynb\n",
      ".Rainfall.ipynb.sage-jupyter2\n",
      "rainfall-deciles.png\n",
      "airport50-60.png\n",
      "airport2021.png\n",
      "DUE_DATE.txt\n",
      "IDCJAC0001_009025_Data1.csv\n",
      ".Rainfall-1.ipynb.sage-jupyter2\n",
      "Rainfall-1.ipynb\n",
      "IDCJAC0001_009021_Data1.csv\n"
     ]
    }
   ],
   "source": [
    "rainfall = Path.home()/\"Labs\"/\"Rainfall\"\n",
    "print(rainfall)\n",
    "print(rainfall.is_dir(),\"\\n\") #This method is used to check whether the given path is a directory or not.\n",
    "for file_path in rainfall.iterdir():\n",
    "    print(file_path.name)"
   ]
  },
  {
   "cell_type": "markdown",
   "metadata": {
    "collapsed": false
   },
   "source": [
    "* Create a path object from `albany_dir_name` and use this to list the contents of the Albany directory.\n",
    "* Using this directory path, create a path to the 12 months per line data file for Albany.\n",
    "* Check that the file exists. This is a good way of double checking that you generated the path correctly.\n",
    "\n",
    "_(Hint: Look at the documentation.)_\n",
    "\n",
    "* Check the file size.\n",
    "* Read in the contents of the file, print the first 100 characters, and check it is what you expect.\n",
    "* Give thanks to John McCarthy (LISP) and Alan Kay (Smalltalk)!\n",
    "\n"
   ]
  },
  {
   "cell_type": "code",
   "execution_count": 60,
   "metadata": {
    "collapsed": false
   },
   "outputs": [
    {
     "data": {
      "text/plain": [
       "'IDCJAC0002_009500'"
      ]
     },
     "execution_count": 60,
     "metadata": {
     },
     "output_type": "execute_result"
    }
   ],
   "source": [
    "albany_dir_name"
   ]
  },
  {
   "cell_type": "code",
   "execution_count": 61,
   "metadata": {
    "collapsed": false
   },
   "outputs": [
    {
     "name": "stdout",
     "output_type": "stream",
     "text": [
      "IDCJAC0002_009500_Data1.csv\n",
      "IDCJAC0002_009500_Data12.csv\n",
      "IDCJAC0002_009500_Note.txt\n",
      "IDCJAC0002_009500\n"
     ]
    }
   ],
   "source": [
    "#Create a path object from albany_dir_name and use this to list the contents of the Albany directory.\n",
    "albany_path=Path(albany_dir_name)\n",
    "for file in albany_path.iterdir():\n",
    "    print(file.name)\n",
    "    \n",
    "print(albany_path)"
   ]
  },
  {
   "cell_type": "code",
   "execution_count": 62,
   "metadata": {
    "collapsed": false
   },
   "outputs": [
    {
     "ename": "SyntaxError",
     "evalue": "invalid syntax (1621733357.py, line 7)",
     "output_type": "error",
     "traceback": [
      "\u001b[0;36m  File \u001b[0;32m\"/tmp/ipykernel_804/1621733357.py\"\u001b[0;36m, line \u001b[0;32m7\u001b[0m\n\u001b[0;31m    sizesize=\u001b[0m\n\u001b[0m             ^\u001b[0m\n\u001b[0;31mSyntaxError\u001b[0m\u001b[0;31m:\u001b[0m invalid syntax\n"
     ]
    }
   ],
   "source": [
    "#Using this directory path, create a path to the 12 months per line data file for Albany.\n",
    "\n",
    "albany_full=Path(albany_path/\"IDCJAC0002_009500_Data12.csv\")\n",
    "albany_full.is_file()\n",
    "#get file size\n",
    "size=albany_full.stat().st_size\n",
    "sizesize=\n",
    "\n"
   ]
  },
  {
   "cell_type": "code",
   "execution_count": 0,
   "metadata": {
    "collapsed": false
   },
   "outputs": [
   ],
   "source": [
   ]
  },
  {
   "cell_type": "markdown",
   "metadata": {
    "collapsed": false
   },
   "source": [
    "#### Q1. Putting it together [1 lab mark]\n",
    "\n",
    "* Write a \"helper\" function `temperature_file(town)` that takes the name of a town (as defined in STATIONS) and returns a path to the data file.\n",
    "\n",
    "For example:\n",
    "\n",
    "```\n",
    "temperature_file(\"Albany\")\n",
    "\n",
    "PosixPath('IDCJAC0002_009500/IDCJAC0002_009500_Data12.csv')\n",
    "```\n",
    "\n"
   ]
  },
  {
   "cell_type": "code",
   "execution_count": 0,
   "metadata": {
    "collapsed": false
   },
   "outputs": [
   ],
   "source": [
   ]
  },
  {
   "cell_type": "code",
   "execution_count": 0,
   "metadata": {
    "collapsed": false,
    "deletable": false,
    "nbgrader": {
     "cell_type": "code",
     "checksum": "6ae362f71f4bca9bb217b2d9de412dc3",
     "grade": false,
     "grade_id": "e37210",
     "locked": false,
     "schema_version": 3,
     "solution": true,
     "task": false
    }
   },
   "outputs": [
   ],
   "source": [
    "def temperature_file (town):\n",
    "    #get directory name and store it in a variable\n",
    "    #dir_name=\"{}_{}_Data{}.csv\".format(MONTHLY_TEMPERATURE,STATIONS[town],PER_LINE)\n",
    "    dir_path=Path(\"{}_{}/{}_{}_Data{}.csv\".format(MONTHLY_TEMPERATURE,STATIONS[town],MONTHLY_TEMPERATURE,STATIONS[town],PER_LINE))\n",
    "    return dir_path\n",
    "\n",
    "temperature_file('Broome')"
   ]
  },
  {
   "cell_type": "code",
   "execution_count": 0,
   "metadata": {
    "collapsed": false,
    "deletable": false,
    "editable": false,
    "nbgrader": {
     "grade": true,
     "grade_id": "temperature_file",
     "locked": true,
     "points": 1,
     "schema_version": 3,
     "solution": false,
     "task": false
    },
    "scrolled": true
   },
   "outputs": [
   ],
   "source": [
    "from nose.tools import assert_equal\n",
    "broome_file = temperature_file(\"Broome\")\n",
    "import pathlib\n",
    "assert_equal(type(broome_file), pathlib.PosixPath)\n",
    "assert_equal(str(broome_file), \"IDCJAC0002_003003/IDCJAC0002_003003_Data12.csv\")\n",
    "assert_equal(broome_file.is_file(), True)\n",
    "print(\"So far, so good.\")\n"
   ]
  },
  {
   "cell_type": "code",
   "execution_count": 0,
   "metadata": {
    "collapsed": false
   },
   "outputs": [
   ],
   "source": [
    "import numpy as np"
   ]
  },
  {
   "cell_type": "code",
   "execution_count": 0,
   "metadata": {
    "collapsed": false
   },
   "outputs": [
   ],
   "source": [
    "alist = ['a',1, None, ['b']]\n",
    "[type(item) for item in alist]"
   ]
  },
  {
   "cell_type": "code",
   "execution_count": 0,
   "metadata": {
    "collapsed": false
   },
   "outputs": [
   ],
   "source": [
    "anarray = np.array([0.0, None], dtype=float)\n",
    "anarray.dtype"
   ]
  },
  {
   "cell_type": "code",
   "execution_count": 0,
   "metadata": {
    "collapsed": false
   },
   "outputs": [
   ],
   "source": [
    "anarray[1]"
   ]
  },
  {
   "cell_type": "markdown",
   "metadata": {
    "collapsed": false
   },
   "source": [
    "### Missing values, NaN, and np.nan\n",
    "\n",
    "In python, we can use `None` for missing items, for example in a list. Try:\n",
    "\n",
    "```\n",
    "alist = ['a',1, None, ['b']]\n",
    "[type(item) for item in alist]\n",
    "```\n",
    "\n",
    "But what if we want to represent missing data in an array?\n",
    "\n",
    "We know that arrays are homogenous. `None` is of type `NoneType`, so it can't be included in an array of numbers. What happens if we try?\n",
    "\n",
    "```\n",
    "anarray = np.array([0.0, None], dtype=float)\n",
    "anarray.dtype\n",
    "```\n",
    "\n",
    "It appears to have worked. But let's take a closer look:\n",
    "\n",
    "```anarray\n",
    "\n",
    "array([ 0., nan])\n",
    "```\n",
    "\n",
    "To keep the compatible type (`float64`), numpy has replaced `None` with `np.nan` (or `np.NaN`), or _not-a-number_. `nan` is  a special float defined for this purpose, long before python came along, by [IEEE 754](https://numpy.org/doc/stable/user/misc.html).\n",
    "\n",
    "One thing to bear in mind about NaN's is they are not equal to other NaN's:\n",
    "\n",
    "```\n",
    "a = np.nan\n",
    "b = np.nan\n",
    "a == b\n",
    "\n",
    "False\n",
    "```\n",
    "\n",
    "So when testing for `np.nan`, always use `np.isnan()`:\n",
    "\n",
    "```\n",
    "a = np.nan\n",
    "b = np.nan\n",
    "np.isnan(a) and np.isnan(b)\n",
    "\n",
    "True\n",
    "```\n",
    "\n"
   ]
  },
  {
   "cell_type": "markdown",
   "metadata": {
    "collapsed": false
   },
   "source": [
    "## Putting the data in a 2-D array, using `np.genfromtxt`\n",
    "\n",
    "In the last lab we used the `csv` package for parsing text files. While `csv` is particularly targeted at reading csv (-like) files, a range of other libraries include their own bespoke file/buffer/string parsers.\n",
    "\n",
    "For example, `numpy` has `fromstring`, `loadtxt` and the more general `genfromtxt` (as well as others for different file/buffer types).\n",
    "\n",
    "`genfromtxt` is extremely versatile - for example, it allows us to skip rows, select columns and deal with missing values.\n",
    "\n",
    "Have a closer inspection of one of our 12 month per line data files. They have:\n",
    "\n",
    " * a header row, that we won't need for analysis\n",
    " * 16 columns, but not all of them are needed\n",
    " * missing values, represented by the string \"null\"\n",
    "\n",
    "This makes `genfromtxt` a great choice, because we can skip some cleaning work by reading just what we need.\n",
    "\n",
    "* Read the API for `genfromtxt` in the latest version of the numpy manual.\n",
    "* Read the data for Albany into an array `albany` (1 line of code). Your array should:\n",
    "  * exclude the header line\n",
    "  * exclude the first two columns (code and station number)\n",
    "  * ensure any occurrences of \"null\" are replaced with `nan`\n",
    "\n",
    "```\n",
    "print(albany[-4:])\n",
    "\n",
    "[[2017.    22.1   22.2   21.8   20.1   19.4   19.    15.9   16.7   17.5\n",
    "    19.1   20.6   21.5   19.7]\n",
    " [2018.    22.4   23.    22.4   21.2   20.7   17.4   17.    16.2   17.\n",
    "    19.    18.7   21.1   19.7]\n",
    " [2019.    22.2   22.2   21.2   21.2   18.7   17.6   16.8   17.9   19.3\n",
    "    19.3   19.4   23.5   19.9]\n",
    " [2020.    22.2   23.4   23.1   21.2   19.6   18.9   17.3    nan    nan\n",
    "     nan    nan    nan    nan]]\n",
    "```\n",
    "\n",
    "Note that `gefromtxt()` will accept a `pathlib` `Path`, and you should use this rather than strings.\n",
    "\n",
    "The the resulting array should be of type float64. This should happen by default, you don't need to specify it - but you should check it (see `np.dtype`). As we know the array is homogeneous, so this includes the years, and the missing values.\n",
    "\n",
    "* Consult the [array attributes](https://numpy.org/doc/stable/reference/arrays.ndarray.html#array-attributes) documentation, and print the _shape_ of the albany array, the _number of dimensions_, and its _dtype_.\n",
    "\n"
   ]
  },
  {
   "cell_type": "code",
   "execution_count": 0,
   "metadata": {
    "collapsed": false
   },
   "outputs": [
   ],
   "source": [
    "#in default delimeter will take white space , so we must set it to ','\n",
    "#exclude the header line\n",
    "#exclude the first two columns (code and station number)\n",
    "\n",
    "\n",
    "albany=np.genfromtxt(fname=temperature_file('Albany'),delimiter=',',skip_header=1,usecols=range(2,16))\n",
    "albany[:3,]"
   ]
  },
  {
   "cell_type": "markdown",
   "metadata": {
    "collapsed": false
   },
   "source": [
    "#### Selecting items in 2-d arrays\n",
    "\n",
    "We know how to select an item in a 1-d array using a slice. To select an item in a 2-d array, we just select the row and the column.\n",
    "\n",
    "For example, `albany[0,-1]` will select the item in the last (-1 th) column of the first (zeroth) row, that is, the annual average temperature for 1880.\n",
    "\n",
    "* Print out the annual average temperature for the last year in the table (1 line of code).\n",
    "* Print out the annual average temperature for the second last year in the table.\n",
    "\n"
   ]
  },
  {
   "cell_type": "code",
   "execution_count": 0,
   "metadata": {
    "collapsed": false
   },
   "outputs": [
   ],
   "source": [
    "albany[:5]"
   ]
  },
  {
   "cell_type": "code",
   "execution_count": 0,
   "metadata": {
    "collapsed": false
   },
   "outputs": [
   ],
   "source": [
    "albany[0,1]"
   ]
  },
  {
   "cell_type": "code",
   "execution_count": 0,
   "metadata": {
    "collapsed": false
   },
   "outputs": [
   ],
   "source": [
    "albany[-1,-1]"
   ]
  },
  {
   "cell_type": "markdown",
   "metadata": {
    "collapsed": false
   },
   "source": [
    "#### Q2. Inspecting the year range for a town [1 lab mark]\n",
    "\n",
    "* Write a function `year_range(town)` that returns a pair of integers representing the first year and the last year included in that town's table (you may assume the tables are always in the correct format and in chronological order).\n",
    "\n",
    "You should use `genfromtxt` to read the data, and then use array selection (no loops). This should only take a couple of lines of code!\n",
    "\n",
    "Check your answers for the various towns are correct.\n",
    "\n"
   ]
  },
  {
   "cell_type": "code",
   "execution_count": 64,
   "metadata": {
    "collapsed": false,
    "deletable": false,
    "nbgrader": {
     "cell_type": "code",
     "checksum": "3526e652bd419db171afe22232b53755",
     "grade": false,
     "grade_id": "09b5ff",
     "locked": false,
     "schema_version": 3,
     "solution": true,
     "task": false
    }
   },
   "outputs": [
    {
     "data": {
      "text/plain": [
       "(1880, 2022)"
      ]
     },
     "execution_count": 64,
     "metadata": {
     },
     "output_type": "execute_result"
    }
   ],
   "source": [
    "def year_range(town):\n",
    "    town_data=np.genfromtxt(fname=temperature_file(town),delimiter=',',skip_header=1,usecols=range(2,16))\n",
    "    year_town=int(town_data[0,0]),int(town_data[-1,0])\n",
    "    return year_town\n",
    "\n",
    "year_range('Albany')"
   ]
  },
  {
   "cell_type": "code",
   "execution_count": 0,
   "metadata": {
    "collapsed": false,
    "deletable": false,
    "editable": false,
    "nbgrader": {
     "grade": true,
     "grade_id": "year_range",
     "locked": true,
     "points": 1,
     "schema_version": 3,
     "solution": false,
     "task": false
    }
   },
   "outputs": [
   ],
   "source": [
    "from nose.tools import assert_equal\n",
    "assert_equal(year_range(\"Albany\"), (1880, 2022))\n",
    "print(\"So far, so good. Additional tests will be applied.\")\n"
   ]
  },
  {
   "cell_type": "markdown",
   "metadata": {
    "collapsed": false
   },
   "source": [
    "#### Collecting all the data\n",
    "\n",
    "* Write a function `get_temps()` that, by iterating through the `STATIONS` dictionary in alphabetical order, returns:\n",
    "  * a list of town names in alphabetical order\n",
    "  * a list of arrays containing the corresponding tables of temperature data (including the year to the average annual temperature)\n",
    "\n",
    "So that you can observe the progress and get a better idea of what data is there, output the town name, rows of data and first and last years for each town. For example:\n",
    "\n",
    "```\n",
    "(towns, tables) = get_temps()\n",
    "\n",
    "Collecting data for Albany   :  107 years recorded between 1880 and 2022\n",
    "Collecting data for Broome   :   84 years recorded between 1939 and 2022\n",
    "Collecting data for Geraldton:   73 years recorded between 1880 and 1953\n",
    "Collecting data for Perth    :   79 years recorded between 1944 and 2022\n",
    "```\n",
    "\n",
    "*Hint: use str.format() to align the data in columns.*\n",
    "\n"
   ]
  },
  {
   "cell_type": "code",
   "execution_count": 68,
   "metadata": {
    "collapsed": false
   },
   "outputs": [
    {
     "name": "stdout",
     "output_type": "stream",
     "text": [
      "Collecting data for   Albany   : 107 years recorded between 1880 and 2022\n",
      "Collecting data for   Broome   : 84 years recorded between 1939 and 2022\n",
      "Collecting data for Geraldton  : 73 years recorded between 1880 and 1953\n",
      "Collecting data for   Perth    : 79 years recorded between 1944 and 2022\n"
     ]
    }
   ],
   "source": [
    "#iterate through dictionaries\n",
    "def get_temps():\n",
    "    new_stations=sorted(STATIONS)\n",
    "    for station in new_stations:\n",
    "        tem_arr=np.genfromtxt(fname=temperature_file(station),delimiter=',',skip_header=1,usecols=range(2,16))\n",
    "        tem_year=year_range(station)\n",
    "        output=\"Collecting data for {:^10} : {} years recorded between {} and {}\".format(station,len(tem_arr),tem_year[0],tem_year[1])\n",
    "\n",
    "        print(output)\n",
    "\n",
    "\n",
    "get_temps()"
   ]
  },
  {
   "cell_type": "markdown",
   "metadata": {
    "collapsed": false
   },
   "source": [
    "#### Q3. A 'production' version [1 lab mark]\n",
    "\n",
    "In this version the user has more control, including being able to turn the printed output on or off.\n",
    "\n",
    "* Write a function `get_temperatures (stations, quiet=True)` with the same specification as `get_temps` except that:\n",
    "  * a stations dictionary is passed to the function (rather than being 'hard wired' to STATIONS)\n",
    "  * it takes one optional argument, `quiet`, that defaults to `True`. If `quiet` is False, then it should print the output as it reads in the data, allowing the user to monitor it, otherwise it reads the data in `silently' (this can be useful when called by other functions)\n",
    "\n"
   ]
  },
  {
   "cell_type": "code",
   "execution_count": 0,
   "metadata": {
    "collapsed": false,
    "deletable": false,
    "nbgrader": {
     "cell_type": "code",
     "checksum": "a1a2dd55639c69e7c8d784a3959b8869",
     "grade": false,
     "grade_id": "78f8a7",
     "locked": false,
     "schema_version": 3,
     "solution": true,
     "task": false
    }
   },
   "outputs": [
   ],
   "source": [
    "def get_temperatures(stations, quiet=True):\n",
    "    towns=sorted(stations)\n",
    "    tables=[]\n",
    "    for x in towns:\n",
    "        tem_arr=np.genfromtxt(fname=temperature_file(x),skip_header=1,delimiter=\",\",usecols=range(2,16))\n",
    "        tables.append(tem_arr)\n",
    "\n",
    "    if quiet:\n",
    "        return(towns,tables);\n",
    "\n",
    "    else:\n",
    "        get_temps()\n",
    "        return(towns,tables)\n",
    "\n",
    "\n",
    "get_temperatures(STATIONS, quiet=True)"
   ]
  },
  {
   "cell_type": "code",
   "execution_count": 0,
   "metadata": {
    "collapsed": false,
    "deletable": false,
    "editable": false,
    "nbgrader": {
     "grade": true,
     "grade_id": "get_temperatures",
     "locked": true,
     "points": 1,
     "schema_version": 3,
     "solution": false,
     "task": false
    }
   },
   "outputs": [
   ],
   "source": [
    "from nose.tools import assert_equal\n",
    "(towns, tables) = get_temperatures(STATIONS, quiet=True)\n",
    "assert_equal(towns, ['Albany', 'Broome', 'Geraldton', 'Perth'])\n",
    "geraldton = tables[towns.index(\"Geraldton\")]\n",
    "assert_equal(geraldton[0,0],1880.)\n",
    "assert_equal(geraldton[1,-2],28.9)\n",
    "print(\"So far so good.\")\n"
   ]
  },
  {
   "cell_type": "markdown",
   "metadata": {
    "collapsed": false
   },
   "source": [
    "## Data Cleaning and Conversion\n"
   ]
  },
  {
   "cell_type": "markdown",
   "metadata": {
    "collapsed": false
   },
   "source": [
    "#### Selecting a row or column\n",
    "\n",
    "We can use the slice operators in the usual way to refer to all the data between some bounds (optionally with stride). So to get all the years, for example, we can select _all rows_ and the _zeroth column_:\n",
    "\n",
    "```\n",
    "(towns, tables) = get_temperatures(STATIONS)\n",
    "albany = tables[towns.index(\"Albany\")]\n",
    "albany[:,0]\n",
    "\n",
    "array([1880., 1881., 1882., 1883., 1884., 1885., 1886., 1887., 1888.,\n",
    "       1889., 1890., 1891., 1892., 1893., 1894., 1895., 1896., 1897.,\n",
    "       1898., 1899., 1900., 1901., 1902., 1903., 1904., 1905., 1906.,\n",
    "       1907., 1908., 1909., 1910., 1911., 1912., 1913., 1914., 1915.,\n",
    "       1916., 1917., 1918., 1919., 1920., 1921., 1922., 1923., 1924.,\n",
    "...\n",
    "```\n",
    "\n",
    "* Using Albany as an example, use array selection to return:\n",
    "  * the first row of data\n",
    "  * the last row of data\n",
    "  * all the annual averages in the last column\n",
    "\n",
    "* Use selection and numpy methods to find the minimum and maximum of the temperatures for the first recorded year for Albany. \n",
    "\n",
    "(The table actually contains the mean maximum temperatures for the months, so to be completely precise it is, for example, the minimum of the mean maximum temperatures, but we'll just refer to this as the minimum of the \"temperatures\".)\n",
    "\n",
    "* Using array selection and numpy functions, find the minimum and maximum February temperatures for Albany.\n",
    "\n",
    "_Hint: If you are not getting what you expect, take a look at `np.nanmin()` and `np.nanmax()`._\n",
    "\n"
   ]
  },
  {
   "cell_type": "code",
   "execution_count": 0,
   "metadata": {
    "collapsed": false
   },
   "outputs": [
   ],
   "source": [
    "feb=albany[:,2]\n",
    "np.nanmin(feb)"
   ]
  },
  {
   "cell_type": "code",
   "execution_count": 0,
   "metadata": {
    "collapsed": false
   },
   "outputs": [
   ],
   "source": [
    "#first row of data\n",
    "first_row=albany[0]\n",
    "np.nanmin(first_row)\n",
    "feb=albany[:,2]\n",
    "np.nanmin(feb)"
   ]
  },
  {
   "cell_type": "markdown",
   "metadata": {
    "collapsed": false
   },
   "source": [
    "#### Selecting an area\n",
    "\n",
    "* Use a slice to select the _first 4 months_ of data for the _first 3 years_ recorded.\n",
    "\n",
    "Your code should be of the form:\n",
    "\n",
    "&nbsp;&nbsp;`albany[`*select the 3 rows here*`,` *select the 4 columns here*`]`.\n",
    "\n",
    "Check against the original csv file to ensure you have selected the correct data."
   ]
  },
  {
   "cell_type": "code",
   "execution_count": 0,
   "metadata": {
    "collapsed": false
   },
   "outputs": [
   ],
   "source": [
    "albany[:3,1:5]"
   ]
  },
  {
   "cell_type": "markdown",
   "metadata": {
    "collapsed": false
   },
   "source": [
    "#### Two ways to skin a cat? (Avoiding a potential pitfall)\n",
    "\n",
    "* Use selection to print the temperature for January 1882 (`albany[2,1]`).\n",
    "* Now use selection to extract the row for 1882, then use selection on the result to extract the January reading (`albany[2][1])`.\n",
    "\n",
    "What do you notice?"
   ]
  },
  {
   "cell_type": "markdown",
   "metadata": {
    "collapsed": false
   },
   "source": [
    "* Now use selection to extract the area containing the first 2 months of temperature data for the first 3 years, `albany[:3,1:3]`.\n",
    "\n",
    "* Then try `albany[:3][1:3]`.\n",
    "\n",
    "What do you find?\n",
    "\n",
    "Why is it different? Why did it work for selecting one item?\n",
    "\n",
    "* What would you need to put in the second set of brackets to get the same result? Try this out."
   ]
  },
  {
   "cell_type": "markdown",
   "metadata": {
    "collapsed": false
   },
   "source": [
    "#### Specifying an axis\n",
    "\n",
    "Lets say we want to print the maximim temperatures for the first four years.\n",
    "\n",
    "If we try\n",
    "```\n",
    "print(albany[0:4,1:].max())\n",
    "```\n",
    "what do we get?\n",
    "\n",
    "`ndarray.max()` (see also `numpy.amax()`) is an example of a method that can be applied to different _axes_ of the array.\n",
    "\n",
    "* Use the `axis` argument to print the maximum temperatures for Albany for the first 4 years."
   ]
  },
  {
   "cell_type": "markdown",
   "metadata": {
    "collapsed": false
   },
   "source": [
    "### Comparing the towns\n",
    "\n",
    "* Write a method that, for each town, finds the decade with the largest difference between the highest and lowest temperatures. Your method should print out a table with the town, decade, highest temperature, lowest temperature and the difference.\n",
    "\n",
    "Which town has the highest temperature difference overall?\n",
    "\n",
    "* Repeat the above using the standard deviation of the temperatures.\n",
    "\n",
    "Which town has the highest standard deviation in one decade?\n",
    "\n"
   ]
  },
  {
   "cell_type": "markdown",
   "metadata": {
    "collapsed": false
   },
   "source": [
    "&copy; Cara MacNish"
   ]
  }
 ],
 "metadata": {
  "kernelspec": {
   "display_name": "Python 3 (system-wide)",
   "language": "python",
   "metadata": {
    "cocalc": {
     "description": "Python 3 programming language",
     "priority": 100,
     "url": "https://www.python.org/"
    }
   },
   "name": "python3",
   "resource_dir": "/ext/jupyter/kernels/python3"
  },
  "language_info": {
   "codemirror_mode": {
    "name": "ipython",
    "version": 3
   },
   "file_extension": ".py",
   "mimetype": "text/x-python",
   "name": "python",
   "nbconvert_exporter": "python",
   "pygments_lexer": "ipython3",
   "version": "3.8.10"
  },
  "nbgrader": {
   "__altered": false,
   "__hash": 462996227,
   "_root": {
    "entries": [
     [
      "size",
      6
     ],
     [
      "_root",
      {
       "entries": [
        [
         "size",
         6
        ],
        [
         "_root",
         {
          "entries": [
           [
            "size",
            1
           ],
           [
            "_root",
            {
             "entries": [
              [
               "cocalc_minimal_stubs",
               false
              ]
             ],
             "ownerID": {
             }
            }
           ],
           [
            "__ownerID",
            null
           ],
           [
            "__hash",
            -335098374
           ],
           [
            "__altered",
            false
           ],
           [
            "cocalc_minimal_stubs",
            false
           ]
          ],
          "ownerID": {
          }
         }
        ],
        [
         "__ownerID",
         null
        ],
        [
         "__hash",
         633336276
        ],
        [
         "__altered",
         false
        ],
        [
         "cocalc_minimal_stubs",
         false
        ]
       ],
       "ownerID": {
       }
      }
     ],
     [
      "__ownerID",
      null
     ],
     [
      "__hash",
      -341060574
     ],
     [
      "__altered",
      false
     ],
     [
      "cocalc_minimal_stubs",
      false
     ]
    ],
    "ownerID": {
    }
   },
   "cocalc_minimal_stubs": false,
   "size": 6
  }
 },
 "nbformat": 4,
 "nbformat_minor": 4
}