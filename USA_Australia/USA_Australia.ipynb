{
 "cells": [
  {
   "cell_type": "markdown",
   "metadata": {
    "collapsed": false
   },
   "source": [
    "<h3>Lab 4/5: Assignment</h3>\n",
    "\n",
    "# USA - Australia Comparison on Census Data\n",
    "\n",
    "---"
   ]
  },
  {
   "cell_type": "markdown",
   "metadata": {
    "collapsed": false,
    "deletable": false
   },
   "source": [
    "## Declaration\n",
    "\n",
    "This declaration should be completed and remain attached to the top of your submission.\n",
    "\n",
    "*I/we am/are aware of the University’s [policy on academic conduct](https://www.uwa.edu.au/policy/-/media/Project/UWA/UWA/Policy-Library/Policy/Student-Administration/Academic-Integrity/Academic-Integrity-Policy.doc) and I declare that this assignment is entirely the work of the author(s) listed below and that suitable acknowledgement has been made for any sources of information used in preparing it. I have retained a hard copy for my own records.*\n",
    "\n",
    "* Name 1:\n",
    "* Student ID 1:\n",
    "* Name 2:\n",
    "* Student ID 2:\n",
    "* Name 3:\n",
    "* Student ID 3:\n",
    "* Date:\n",
    "\n",
    "If the assignment was completed in a group, please enter the student numbers in the \"StudyBuddy\" declaration below:"
   ]
  },
  {
   "cell_type": "code",
   "execution_count": 1,
   "metadata": {
    "collapsed": false
   },
   "outputs": [
   ],
   "source": [
    "StudyBuddies = []"
   ]
  },
  {
   "cell_type": "markdown",
   "metadata": {
    "collapsed": false,
    "deletable": false,
    "editable": false,
    "nbgrader": {
     "grade": false,
     "grade_id": "assignment",
     "locked": true,
     "points": 15,
     "schema_version": 3,
     "solution": false,
     "task": true
    }
   },
   "source": [
    "\n",
    "<hr>\n"
   ]
  },
  {
   "cell_type": "code",
   "execution_count": 2,
   "metadata": {
    "collapsed": false
   },
   "outputs": [
   ],
   "source": [
    "AUS_DATA = \"2021Census_G05_AUS_AUS.csv\"\n",
    "USA_DATA = \"ACSST5Y2020.S1201-2022-08-31T043539.csv\""
   ]
  },
  {
   "cell_type": "code",
   "execution_count": 123,
   "metadata": {
    "collapsed": false
   },
   "outputs": [
    {
     "name": "stdout",
     "output_type": "stream",
     "text": [
      "[[2417, 307, 407, 1454307, 378], [1254145, 68677, 68747, 3807947, 4792], [2107506, 223123, 144296, 999811, 12931], [1953789, 416471, 177080, 661911, 37654], [1836616, 516146, 149044, 405664, 102538]]\n"
     ]
    }
   ],
   "source": [
    "yr15to19=[]\n",
    "yr20to34=[]\n",
    "yr35to44=[]\n",
    "yr45to54=[]\n",
    "yr55to64=[]\n",
    "yr65toover=[]\n",
    "\n",
    "yr20to34_old=[]\n",
    "yr65toover_old=[]\n",
    "\n",
    "aus_clean=[]\n",
    "\n",
    "with open(AUS_DATA,'r') as file:\n",
    "    aus_data=file.read()\n",
    "split_data=aus_data.splitlines() #split data into age-range and numbers\n",
    "age_range=split_data[0].split(',')[1:] #remove AUS_CODE from split_data\n",
    "numbers=split_data[1].split(',')[1:] #remove AUS from numbers\n",
    "\n",
    "#split age_range according to status\n",
    "\n",
    "#get data for married\n",
    "slice_married=slice(0,len(age_range),6) #get index for married\n",
    "married=age_range[slice_married][-10:] #get age_range P(male+female)\n",
    "married_num=numbers[slice_married][-10:] #get married numbers\n",
    "\n",
    "#get data for seperated\n",
    "slice_seperated=slice(1,len(age_range),6)\n",
    "seperated=age_range[slice_seperated][-10:]\n",
    "seperated_num=numbers[slice_seperated][-10:]\n",
    "\n",
    "#get data for divorced\n",
    "slice_divorced=slice(2,len(age_range),6)\n",
    "divorced=age_range[slice_divorced][-10:]\n",
    "divorced_num=numbers[slice_divorced][-10:]\n",
    "\n",
    "#get data for widowed\n",
    "slice_widowed=slice(3,len(age_range),6)\n",
    "widowed=age_range[slice_widowed][-10:]\n",
    "widowed_num=numbers[slice_widowed][-10:]\n",
    "\n",
    "#get data for nevermarried\n",
    "slice_nevermarried=slice(4,len(age_range),6)\n",
    "nevermarried=age_range[slice_nevermarried][-10:]\n",
    "nevermarried_num=numbers[slice_nevermarried][-10:]\n",
    "\n",
    "\n",
    "for i in range(len(married)):\n",
    "    age=married[i] # age='P_15_19_yr_Married'\n",
    "    get_age_index=age[2:4] #(P_15_19_yr_Married) get the 3rd and 4th character\n",
    "\n",
    "    if get_age_index == '15': #15to19 age group\n",
    "        yr15to19.append(int(married_num[i])) #convert to int\n",
    "        yr15to19.append(int(divorced_num[i]))\n",
    "        yr15to19.append(int(seperated_num[i]))\n",
    "        yr15to19.append(int(nevermarried_num[i]))\n",
    "        yr15to19.append(int(widowed_num[i]))\n",
    "\n",
    "\n",
    "    if get_age_index == '20': #20to34 age group(combine 20-24 and 25-34)\n",
    "        yr20to34_old.append(int(married_num[i]))\n",
    "        yr20to34_old.append(int(divorced_num[i]))\n",
    "        yr20to34_old.append(int(seperated_num[i]))\n",
    "        yr20to34_old.append(int(nevermarried_num[i]))\n",
    "        yr20to34_old.append(int(widowed_num[i]))\n",
    "\n",
    "    if get_age_index == '25': #20to34 age group(combine 20-24 and 25-34)\n",
    "        yr20to34_old.append(int(married_num[i]))\n",
    "        yr20to34_old.append(int(divorced_num[i]))\n",
    "        yr20to34_old.append(int(seperated_num[i]))\n",
    "        yr20to34_old.append(int(nevermarried_num[i]))\n",
    "        yr20to34_old.append(int(widowed_num[i]))\n",
    "\n",
    "    if get_age_index == '35': #35to44 age group\n",
    "        yr35to44.append(int(married_num[i])) #convert to int\n",
    "        yr35to44.append(int(divorced_num[i]))\n",
    "        yr35to44.append(int(seperated_num[i]))\n",
    "        yr35to44.append(int(nevermarried_num[i]))\n",
    "        yr35to44.append(int(widowed_num[i]))\n",
    "\n",
    "    if get_age_index == '45': #45to54 age group\n",
    "        yr45to54.append(int(married_num[i])) #convert to int\n",
    "        yr45to54.append(int(divorced_num[i]))\n",
    "        yr45to54.append(int(seperated_num[i]))\n",
    "        yr45to54.append(int(nevermarried_num[i]))\n",
    "        yr45to54.append(int(widowed_num[i]))\n",
    "\n",
    "    if get_age_index == '55': #55to64 age group\n",
    "        yr55to64.append(int(married_num[i])) #convert to int\n",
    "        yr55to64.append(int(divorced_num[i]))\n",
    "        yr55to64.append(int(seperated_num[i]))\n",
    "        yr55to64.append(int(nevermarried_num[i]))\n",
    "        yr55to64.append(int(widowed_num[i]))\n",
    "\n",
    "    if get_age_index == '65': #65to74 age group\n",
    "        yr65toover_old.append(int(married_num[i])) #convert to int\n",
    "        yr65toover_old.append(int(divorced_num[i]))\n",
    "        yr65toover_old.append(int(seperated_num[i]))\n",
    "        yr65toover_old.append(int(nevermarried_num[i]))\n",
    "        yr65toover_old.append(int(widowed_num[i]))\n",
    "\n",
    "    if get_age_index == '75': #65to74 age group\n",
    "        yr65toover_old.append(int(married_num[i])) #convert to int\n",
    "        yr65toover_old.append(int(divorced_num[i]))\n",
    "        yr65toover_old.append(int(seperated_num[i]))\n",
    "        yr65toover_old.append(int(nevermarried_num[i]))\n",
    "        yr65toover_old.append(int(widowed_num[i]))\n",
    "\n",
    "    if get_age_index == '85': #65to74 age group\n",
    "        yr65toover_old.append(int(married_num[i])) #convert to int\n",
    "        yr65toover_old.append(int(divorced_num[i]))\n",
    "        yr65toover_old.append(int(seperated_num[i]))\n",
    "        yr65toover_old.append(int(nevermarried_num[i]))\n",
    "        yr65toover_old.append(int(widowed_num[i]))\n",
    "\n",
    "#sum every first and fifth index to get the total from each marital status\n",
    "#below is the sum for age group (20to24) + (25to34)\n",
    "\n",
    "for j in range(5): #we have 5marital status\n",
    "    sum_20to34=sum(yr20to34_old[j::5])\n",
    "    yr20to34.append(sum_20to34)\n",
    "\n",
    "for j in range(5): #we have 5 marital status\n",
    "    sum_65toover=sum(yr65toover_old[j::5])\n",
    "    yr65toover.append(sum_65toover)\n",
    "\n",
    "aus_clean.append(yr15to19)\n",
    "aus_clean.append(yr20to34)\n",
    "aus_clean.append(yr35to44)\n",
    "aus_clean.append(yr45to54)\n",
    "aus_clean.append(yr55to64)\n",
    "\n",
    "print(aus_clean)\n",
    "\n",
    "\n",
    "\n",
    "\n",
    "\n",
    "\n",
    "\n",
    "\n",
    "\n"
   ]
  },
  {
   "cell_type": "code",
   "execution_count": 0,
   "metadata": {
    "collapsed": false
   },
   "outputs": [
   ],
   "source": [
   ]
  },
  {
   "cell_type": "code",
   "execution_count": 0,
   "metadata": {
    "collapsed": false
   },
   "outputs": [
   ],
   "source": [
   ]
  }
 ],
 "metadata": {
  "kernelspec": {
   "display_name": "Python 3 (system-wide)",
   "language": "python",
   "metadata": {
    "cocalc": {
     "description": "Python 3 programming language",
     "priority": 100,
     "url": "https://www.python.org/"
    }
   },
   "name": "python3",
   "resource_dir": "/ext/jupyter/kernels/python3"
  },
  "language_info": {
   "codemirror_mode": {
    "name": "ipython",
    "version": 3
   },
   "file_extension": ".py",
   "mimetype": "text/x-python",
   "name": "python",
   "nbconvert_exporter": "python",
   "pygments_lexer": "ipython3",
   "version": "3.8.10"
  },
  "nbgrader": {
   "__altered": false,
   "__hash": -335098374,
   "_root": {
    "entries": [
     [
      "cocalc_minimal_stubs",
      false
     ]
    ],
    "ownerID": {
    }
   },
   "cocalc_minimal_stubs": false,
   "size": 1
  }
 },
 "nbformat": 4,
 "nbformat_minor": 4
}